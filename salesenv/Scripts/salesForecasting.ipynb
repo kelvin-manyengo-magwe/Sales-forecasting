{
 "cells": [
  {
   "cell_type": "code",
   "execution_count": 1,
   "id": "b76c4297-36ae-4dc0-9e2e-19f2901860e0",
   "metadata": {},
   "outputs": [
    {
     "name": "stdout",
     "output_type": "stream",
     "text": [
      "Defaulting to user installation because normal site-packages is not writeable\n",
      "Requirement already satisfied: pip in c:\\users\\hp\\appdata\\local\\packages\\pythonsoftwarefoundation.python.3.12_qbz5n2kfra8p0\\localcache\\local-packages\\python312\\site-packages (25.0.1)\n",
      "Note: you may need to restart the kernel to use updated packages.\n"
     ]
    }
   ],
   "source": [
    "pip install --upgrade pip"
   ]
  },
  {
   "cell_type": "code",
   "execution_count": 2,
   "id": "139c3406-0258-4096-a848-a4c382460a64",
   "metadata": {},
   "outputs": [
    {
     "name": "stdout",
     "output_type": "stream",
     "text": [
      "Note: you may need to restart the kernel to use updated packages.\n"
     ]
    },
    {
     "name": "stderr",
     "output_type": "stream",
     "text": [
      "ERROR: Ignored the following yanked versions: 1.0.0, 1.1.0, 1.1.1, 1.1.2, 1.1.3, 1.1.4, 1.1.5, 1.1.6, 1.1.7, 1.1.8, 1.1.9, 1.1.10, 1.1.11, 1.1.12, 1.1.13, 1.1.14, 1.1.15, 1.1.16, 1.1.17, 1.1.18, 1.1.19, 1.1.20, 1.1.21, 1.1.22, 1.1.23, 1.1.24, 1.1.25, 1.1.26, 1.1.27, 1.1.28, 1.1.29, 1.1.30, 1.1.31, 1.1.32, 1.1.33, 1.1.34, 1.1.35, 1.1.36, 1.1.37, 1.1.38, 1.1.39, 1.1.40, 1.1.41, 1.1.42, 1.1.43, 1.1.44, 1.1.45, 1.1.46, 1.1.47, 1.1.48, 1.1.49, 1.1.50, 1.1.51, 1.1.52, 1.1.53\n",
      "ERROR: Could not find a version that satisfies the requirement upgini (from versions: 0.0.0a1, 0.0.0a2, 0.0.0a3, 0.0.0a4, 0.0.0a5, 0.0.0a11, 0.0.0a12, 0.0.0a13, 0.0.0a14, 0.0.0a15, 0.0.0a16, 0.0.0a17, 0.0.0a18, 0.0.0a19, 0.0.0a20, 0.0.0a21, 0.0.0a22, 0.0.0a23, 0.0.0a128, 0.10.0a11, 0.10.0a12, 0.10.0a13, 0.10.0a14, 0.10.0a15, 0.10.0a16, 0.10.0a17, 0.10.0a18, 0.10.0a19, 0.10.0a20, 0.10.0a21, 0.10.0a22, 0.10.0a23, 0.10.0a24, 0.10.0a25, 0.10.0a26, 0.10.0a27, 0.10.0a28, 0.10.0a29, 0.10.0a30, 0.10.0a31, 0.10.0a32, 0.10.0a33, 0.10.0a34, 0.10.0a35, 0.10.0a36, 0.10.0a37, 0.10.0a38, 0.10.0a39, 0.10.0a40, 0.10.0a41, 0.10.0a42, 0.10.0a43, 0.10.0a44, 0.10.0a45, 0.10.0a46, 0.10.0a47, 0.10.0a48, 0.10.0a49, 0.10.0a50, 0.10.0a51, 0.10.0a52, 0.10.0a53, 0.10.0a54, 0.10.0a55, 0.10.0a56, 0.10.0a57, 0.10.0a58, 0.10.0a59, 0.10.0a60, 0.10.0a61, 0.10.0a62, 0.10.0a63, 0.10.0a64, 0.10.0a65, 0.10.0a66, 0.10.0a68, 0.10.0a69, 0.10.0a70, 0.10.0a71, 0.10.0a72, 0.10.0a73, 0.10.0a74, 0.10.0a75, 0.10.0a76, 0.10.0a78, 0.10.0a79, 0.10.0a80, 0.10.0a81, 0.10.0a82, 0.10.0a83, 0.10.0a84, 0.10.0a85, 0.10.0a86, 0.10.0a87, 0.10.0a88, 0.10.0a89, 0.10.0a90, 0.10.0a91, 0.10.0a92, 0.10.0a93, 0.10.0a94, 0.10.0a95, 0.10.0a96, 0.10.0a97, 0.10.0a98, 0.10.0a99, 0.10.0a100, 0.10.0a101, 0.10.0a102, 0.10.0a103, 0.10.0a104, 0.10.0a106, 0.10.0a107, 0.10.0a108, 0.10.0a109, 0.10.0a110, 0.10.0a111, 0.10.0a112, 0.10.0a113, 0.10.0a114, 0.10.0a115, 0.10.0a116, 0.10.0a117, 0.10.0a118, 0.10.0a119, 0.10.0a120, 0.10.0a121, 0.10.0a122, 0.10.0a124, 0.10.0a125, 0.10.0a126, 0.10.0a127, 1.1.4a1, 1.1.6a1, 1.1.6a2, 1.1.6a3, 1.1.6a4, 1.1.6a5, 1.1.6a6, 1.1.7a1, 1.1.10a1, 1.1.12a1, 1.1.13a1, 1.1.13a2, 1.1.13a3, 1.1.14a1, 1.1.38a1, 1.1.39a1, 1.1.39a2, 1.1.39a3, 1.1.39a4, 1.1.39a5, 1.1.39a6, 1.1.39a7, 1.1.41a1, 1.1.41a2, 1.1.43a1, 1.1.46a1, 1.1.46a2, 1.1.46a3, 1.1.46a4, 1.1.46a5, 1.1.47a1, 1.1.52a1, 1.1.52a2, 1.1.52a3, 1.1.52a4, 1.1.53a1, 1.1.53a2, 1.1.53a3, 1.1.53a4, 1.1.53a5, 1.1.54a1, 1.1.55a1, 1.1.56a1)\n",
      "ERROR: No matching distribution found for upgini\n"
     ]
    }
   ],
   "source": [
    "pip install -Uq upgini"
   ]
  },
  {
   "cell_type": "code",
   "execution_count": 3,
   "id": "f74e7f11-5528-4524-86e9-e6893fdb4b46",
   "metadata": {},
   "outputs": [
    {
     "name": "stdout",
     "output_type": "stream",
     "text": [
      "Defaulting to user installation because normal site-packages is not writeable\n",
      "Note: you may need to restart the kernel to use updated packages.\n"
     ]
    },
    {
     "name": "stderr",
     "output_type": "stream",
     "text": [
      "ERROR: Invalid requirement: 'upgini=0.10.0': Expected end or semicolon (after name and no valid version specifier)\n",
      "    upgini=0.10.0\n",
      "          ^\n",
      "Hint: = is not a valid operator. Did you mean == ?\n"
     ]
    }
   ],
   "source": [
    "pip install upgini=0.10.0"
   ]
  },
  {
   "cell_type": "code",
   "execution_count": 4,
   "id": "d6a1897a-13bf-494d-93f6-36db4ca19bf3",
   "metadata": {},
   "outputs": [
    {
     "name": "stdout",
     "output_type": "stream",
     "text": [
      "Defaulting to user installation because normal site-packages is not writeable\n",
      "Note: you may need to restart the kernel to use updated packages.\n"
     ]
    },
    {
     "name": "stderr",
     "output_type": "stream",
     "text": [
      "ERROR: Ignored the following yanked versions: 1.0.0, 1.1.0, 1.1.1, 1.1.2, 1.1.3, 1.1.4, 1.1.5, 1.1.6, 1.1.7, 1.1.8, 1.1.9, 1.1.10, 1.1.11, 1.1.12, 1.1.13, 1.1.14, 1.1.15, 1.1.16, 1.1.17, 1.1.18, 1.1.19, 1.1.20, 1.1.21, 1.1.22, 1.1.23, 1.1.24, 1.1.25, 1.1.26, 1.1.27, 1.1.28, 1.1.29, 1.1.30, 1.1.31, 1.1.32, 1.1.33, 1.1.34, 1.1.35, 1.1.36, 1.1.37, 1.1.38, 1.1.39, 1.1.40, 1.1.41, 1.1.42, 1.1.43, 1.1.44, 1.1.45, 1.1.46, 1.1.47, 1.1.48, 1.1.49, 1.1.50, 1.1.51, 1.1.52, 1.1.53\n",
      "ERROR: Could not find a version that satisfies the requirement upgini==0.10.0 (from versions: 0.0.0a1, 0.0.0a2, 0.0.0a3, 0.0.0a4, 0.0.0a5, 0.0.0a11, 0.0.0a12, 0.0.0a13, 0.0.0a14, 0.0.0a15, 0.0.0a16, 0.0.0a17, 0.0.0a18, 0.0.0a19, 0.0.0a20, 0.0.0a21, 0.0.0a22, 0.0.0a23, 0.0.0a128, 0.10.0a11, 0.10.0a12, 0.10.0a13, 0.10.0a14, 0.10.0a15, 0.10.0a16, 0.10.0a17, 0.10.0a18, 0.10.0a19, 0.10.0a20, 0.10.0a21, 0.10.0a22, 0.10.0a23, 0.10.0a24, 0.10.0a25, 0.10.0a26, 0.10.0a27, 0.10.0a28, 0.10.0a29, 0.10.0a30, 0.10.0a31, 0.10.0a32, 0.10.0a33, 0.10.0a34, 0.10.0a35, 0.10.0a36, 0.10.0a37, 0.10.0a38, 0.10.0a39, 0.10.0a40, 0.10.0a41, 0.10.0a42, 0.10.0a43, 0.10.0a44, 0.10.0a45, 0.10.0a46, 0.10.0a47, 0.10.0a48, 0.10.0a49, 0.10.0a50, 0.10.0a51, 0.10.0a52, 0.10.0a53, 0.10.0a54, 0.10.0a55, 0.10.0a56, 0.10.0a57, 0.10.0a58, 0.10.0a59, 0.10.0a60, 0.10.0a61, 0.10.0a62, 0.10.0a63, 0.10.0a64, 0.10.0a65, 0.10.0a66, 0.10.0a68, 0.10.0a69, 0.10.0a70, 0.10.0a71, 0.10.0a72, 0.10.0a73, 0.10.0a74, 0.10.0a75, 0.10.0a76, 0.10.0a78, 0.10.0a79, 0.10.0a80, 0.10.0a81, 0.10.0a82, 0.10.0a83, 0.10.0a84, 0.10.0a85, 0.10.0a86, 0.10.0a87, 0.10.0a88, 0.10.0a89, 0.10.0a90, 0.10.0a91, 0.10.0a92, 0.10.0a93, 0.10.0a94, 0.10.0a95, 0.10.0a96, 0.10.0a97, 0.10.0a98, 0.10.0a99, 0.10.0a100, 0.10.0a101, 0.10.0a102, 0.10.0a103, 0.10.0a104, 0.10.0a106, 0.10.0a107, 0.10.0a108, 0.10.0a109, 0.10.0a110, 0.10.0a111, 0.10.0a112, 0.10.0a113, 0.10.0a114, 0.10.0a115, 0.10.0a116, 0.10.0a117, 0.10.0a118, 0.10.0a119, 0.10.0a120, 0.10.0a121, 0.10.0a122, 0.10.0a124, 0.10.0a125, 0.10.0a126, 0.10.0a127, 1.1.4a1, 1.1.6a1, 1.1.6a2, 1.1.6a3, 1.1.6a4, 1.1.6a5, 1.1.6a6, 1.1.7a1, 1.1.10a1, 1.1.12a1, 1.1.13a1, 1.1.13a2, 1.1.13a3, 1.1.14a1, 1.1.38a1, 1.1.39a1, 1.1.39a2, 1.1.39a3, 1.1.39a4, 1.1.39a5, 1.1.39a6, 1.1.39a7, 1.1.41a1, 1.1.41a2, 1.1.43a1, 1.1.46a1, 1.1.46a2, 1.1.46a3, 1.1.46a4, 1.1.46a5, 1.1.47a1, 1.1.52a1, 1.1.52a2, 1.1.52a3, 1.1.52a4, 1.1.53a1, 1.1.53a2, 1.1.53a3, 1.1.53a4, 1.1.53a5, 1.1.54a1, 1.1.55a1, 1.1.56a1)\n",
      "ERROR: No matching distribution found for upgini==0.10.0\n"
     ]
    }
   ],
   "source": [
    "pip install upgini==0.10.0"
   ]
  },
  {
   "cell_type": "code",
   "execution_count": 5,
   "id": "3f2e7bb1-a74a-4b37-ae89-2bb0a63c2a74",
   "metadata": {},
   "outputs": [
    {
     "name": "stdout",
     "output_type": "stream",
     "text": [
      "Defaulting to user installation because normal site-packages is not writeableNote: you may need to restart the kernel to use updated packages.\n"
     ]
    },
    {
     "name": "stderr",
     "output_type": "stream",
     "text": [
      "ERROR: Ignored the following yanked versions: 1.0.0, 1.1.0, 1.1.1, 1.1.2, 1.1.3, 1.1.4, 1.1.5, 1.1.6, 1.1.7, 1.1.8, 1.1.9, 1.1.10, 1.1.11, 1.1.12, 1.1.13, 1.1.14, 1.1.15, 1.1.16, 1.1.17, 1.1.18, 1.1.19, 1.1.20, 1.1.21, 1.1.22, 1.1.23, 1.1.24, 1.1.25, 1.1.26, 1.1.27, 1.1.28, 1.1.29, 1.1.30, 1.1.31, 1.1.32, 1.1.33, 1.1.34, 1.1.35, 1.1.36, 1.1.37, 1.1.38, 1.1.39, 1.1.40, 1.1.41, 1.1.42, 1.1.43, 1.1.44, 1.1.45, 1.1.46, 1.1.47, 1.1.48, 1.1.49, 1.1.50, 1.1.51, 1.1.52, 1.1.53\n",
      "ERROR: Could not find a version that satisfies the requirement upgini==1.1.56 (from versions: 0.0.0a1, 0.0.0a2, 0.0.0a3, 0.0.0a4, 0.0.0a5, 0.0.0a11, 0.0.0a12, 0.0.0a13, 0.0.0a14, 0.0.0a15, 0.0.0a16, 0.0.0a17, 0.0.0a18, 0.0.0a19, 0.0.0a20, 0.0.0a21, 0.0.0a22, 0.0.0a23, 0.0.0a128, 0.10.0a11, 0.10.0a12, 0.10.0a13, 0.10.0a14, 0.10.0a15, 0.10.0a16, 0.10.0a17, 0.10.0a18, 0.10.0a19, 0.10.0a20, 0.10.0a21, 0.10.0a22, 0.10.0a23, 0.10.0a24, 0.10.0a25, 0.10.0a26, 0.10.0a27, 0.10.0a28, 0.10.0a29, 0.10.0a30, 0.10.0a31, 0.10.0a32, 0.10.0a33, 0.10.0a34, 0.10.0a35, 0.10.0a36, 0.10.0a37, 0.10.0a38, 0.10.0a39, 0.10.0a40, 0.10.0a41, 0.10.0a42, 0.10.0a43, 0.10.0a44, 0.10.0a45, 0.10.0a46, 0.10.0a47, 0.10.0a48, 0.10.0a49, 0.10.0a50, 0.10.0a51, 0.10.0a52, 0.10.0a53, 0.10.0a54, 0.10.0a55, 0.10.0a56, 0.10.0a57, 0.10.0a58, 0.10.0a59, 0.10.0a60, 0.10.0a61, 0.10.0a62, 0.10.0a63, 0.10.0a64, 0.10.0a65, 0.10.0a66, 0.10.0a68, 0.10.0a69, 0.10.0a70, 0.10.0a71, 0.10.0a72, 0.10.0a73, 0.10.0a74, 0.10.0a75, 0.10.0a76, 0.10.0a78, 0.10.0a79, 0.10.0a80, 0.10.0a81, 0.10.0a82, 0.10.0a83, 0.10.0a84, 0.10.0a85, 0.10.0a86, 0.10.0a87, 0.10.0a88, 0.10.0a89, 0.10.0a90, 0.10.0a91, 0.10.0a92, 0.10.0a93, 0.10.0a94, 0.10.0a95, 0.10.0a96, 0.10.0a97, 0.10.0a98, 0.10.0a99, 0.10.0a100, 0.10.0a101, 0.10.0a102, 0.10.0a103, 0.10.0a104, 0.10.0a106, 0.10.0a107, 0.10.0a108, 0.10.0a109, 0.10.0a110, 0.10.0a111, 0.10.0a112, 0.10.0a113, 0.10.0a114, 0.10.0a115, 0.10.0a116, 0.10.0a117, 0.10.0a118, 0.10.0a119, 0.10.0a120, 0.10.0a121, 0.10.0a122, 0.10.0a124, 0.10.0a125, 0.10.0a126, 0.10.0a127, 1.1.4a1, 1.1.6a1, 1.1.6a2, 1.1.6a3, 1.1.6a4, 1.1.6a5, 1.1.6a6, 1.1.7a1, 1.1.10a1, 1.1.12a1, 1.1.13a1, 1.1.13a2, 1.1.13a3, 1.1.14a1, 1.1.38a1, 1.1.39a1, 1.1.39a2, 1.1.39a3, 1.1.39a4, 1.1.39a5, 1.1.39a6, 1.1.39a7, 1.1.41a1, 1.1.41a2, 1.1.43a1, 1.1.46a1, 1.1.46a2, 1.1.46a3, 1.1.46a4, 1.1.46a5, 1.1.47a1, 1.1.52a1, 1.1.52a2, 1.1.52a3, 1.1.52a4, 1.1.53a1, 1.1.53a2, 1.1.53a3, 1.1.53a4, 1.1.53a5, 1.1.54a1, 1.1.55a1, 1.1.56a1)\n",
      "ERROR: No matching distribution found for upgini==1.1.56\n"
     ]
    },
    {
     "name": "stdout",
     "output_type": "stream",
     "text": [
      "\n"
     ]
    }
   ],
   "source": [
    "pip install upgini==1.1.56"
   ]
  },
  {
   "cell_type": "code",
   "execution_count": null,
   "id": "e558d3c5-9b4d-4e19-b245-5e779fb12d06",
   "metadata": {},
   "outputs": [],
   "source": [
    "pip install upgini==1.1.53"
   ]
  },
  {
   "cell_type": "code",
   "execution_count": null,
   "id": "44a55c5f-046e-43f8-94ba-3f1d63134a0e",
   "metadata": {},
   "outputs": [],
   "source": [
    "upgini --version"
   ]
  },
  {
   "cell_type": "code",
   "execution_count": null,
   "id": "9552fe9d-9ee4-4315-8b56-b92ab51d650d",
   "metadata": {},
   "outputs": [],
   "source": [
    "pip install catboost"
   ]
  },
  {
   "cell_type": "code",
   "execution_count": null,
   "id": "0292aaef-da0e-435b-bcf2-966043033c88",
   "metadata": {},
   "outputs": [],
   "source": []
  }
 ],
 "metadata": {
  "kernelspec": {
   "display_name": "Python 3 (ipykernel)",
   "language": "python",
   "name": "python3"
  },
  "language_info": {
   "codemirror_mode": {
    "name": "ipython",
    "version": 3
   },
   "file_extension": ".py",
   "mimetype": "text/x-python",
   "name": "python",
   "nbconvert_exporter": "python",
   "pygments_lexer": "ipython3",
   "version": "3.12.9"
  }
 },
 "nbformat": 4,
 "nbformat_minor": 5
}
